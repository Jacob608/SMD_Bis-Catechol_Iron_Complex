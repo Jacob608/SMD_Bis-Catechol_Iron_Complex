{
 "cells": [
  {
   "cell_type": "markdown",
   "id": "4b45861a",
   "metadata": {},
   "source": [
    "# Return x, y, and z for SMD Pull Direction"
   ]
  },
  {
   "cell_type": "code",
   "execution_count": 13,
   "id": "aed5d835",
   "metadata": {},
   "outputs": [],
   "source": [
    "# Import necessary libraries\n",
    "import MDAnalysis as mda\n",
    "import argparse\n",
    "import numpy as np"
   ]
  },
  {
   "cell_type": "code",
   "execution_count": 14,
   "id": "00599e14",
   "metadata": {},
   "outputs": [],
   "source": [
    "# Read the information requested by the user.\n",
    "parser = argparse.ArgumentParser(description=\"Process some integers.\")\n",
    "# idx1 is the index of the atom which will be fixed during the smd simulation.\n",
    "parser.add_argument('idx1', type=int, help='First index')\n",
    "# idx2 is the index of the atom which will be attached to the spring during the smd simulation.\n",
    "parser.add_argument('idx2', type=int, help='Second index')\n",
    "# f is the name of the data file from which the positions of id1 and id2 will be extracted.\n",
    "parser.add_argument('f', type=str, help='A string argument')\n",
    "\n",
    "idx1 = 9\n",
    "idx2 = 32\n",
    "f = 'equilibrated.data.data'\n",
    "# args = parser.parse_args()"
   ]
  },
  {
   "cell_type": "code",
   "execution_count": 23,
   "id": "e1e88f1b",
   "metadata": {},
   "outputs": [
    {
     "name": "stdout",
     "output_type": "stream",
     "text": [
      "116.06206\n"
     ]
    }
   ],
   "source": []
  },
  {
   "cell_type": "code",
   "execution_count": 33,
   "id": "80f08432",
   "metadata": {},
   "outputs": [],
   "source": [
    "def unit_vector(pos1, pos2):\n",
    "    \"\"\"\n",
    "    Description: Calculate the unit vector pointing from coordinates of pos1 to coordinates in pos2.\n",
    "    \n",
    "    Args:\n",
    "        pos1 (array): An array of Cartesian coordinates x, y, and z.\n",
    "        pos2 (array): An array of Cartesian coordinates x, y, and z.\n",
    "    \n",
    "    Returns:\n",
    "        unit_vec (array): An array of Cartesian coordinates x, y, and z which is also the unit vector between pos1 and pos2.\n",
    "    \"\"\"\n",
    "    # Calculate the magnitude of the vector from pos1 to pos2.\n",
    "    delta_x = pos2[0] - pos1[0]\n",
    "    delta_y = pos2[1] - pos1[1]\n",
    "    delta_z = pos2[2] - pos1[2]\n",
    "    magnitude = (delta_x ** 2 + delta_y ** 2 + delta_z ** 2) ** 0.5\n",
    "    \n",
    "    # Convert the difference between pos2 and pos1 into a unit vector.\n",
    "    unit_vec = np.asarray([delta_x, delta_y, delta_z]/magnitude)\n",
    "    \n",
    "    # Make sure that this is a unit vector.\n",
    "    assert np.round(np.sqrt(unit_vec[0]**2 + unit_vec[1]**2 + unit_vec[2]**2), 2) == 1.0\n",
    "    \n",
    "    return unit_vec"
   ]
  },
  {
   "cell_type": "code",
   "execution_count": 35,
   "id": "0701cfe3",
   "metadata": {},
   "outputs": [],
   "source": [
    "# Load the requested data file into a MDAnalysis universe.\n",
    "u = mda.Universe(f)\n",
    "# Get the positions of the two reference atoms.\n",
    "pos1 = u.select_atoms(\"index 9\").positions[0]\n",
    "pos2 = u.select_atoms(\"index 32\").positions[0]\n",
    "# Get a unit vector pointing in the direction from pos1 to pos2.\n",
    "unit_vec = unit_vector(pos1, pos2)\n",
    "# Print the x, y, and z coordinates of the unit vector to a text file.\n",
    "with open('xyz.txt', 'w') as file:\n",
    "    file.write(f\"{unit_vec[0]} {unit_vec[1]} {unit_vec[2]}\")"
   ]
  },
  {
   "cell_type": "code",
   "execution_count": null,
   "id": "9a11fba1",
   "metadata": {},
   "outputs": [],
   "source": []
  }
 ],
 "metadata": {
  "kernelspec": {
   "display_name": "mdanalysis_openpyxl",
   "language": "python",
   "name": "mdanalysis_openpyxl"
  },
  "language_info": {
   "codemirror_mode": {
    "name": "ipython",
    "version": 3
   },
   "file_extension": ".py",
   "mimetype": "text/x-python",
   "name": "python",
   "nbconvert_exporter": "python",
   "pygments_lexer": "ipython3",
   "version": "3.12.2"
  }
 },
 "nbformat": 4,
 "nbformat_minor": 5
}
